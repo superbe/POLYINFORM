{
 "cells": [
  {
   "cell_type": "code",
   "execution_count": 1,
   "metadata": {},
   "outputs": [],
   "source": [
    "import numpy as np\n",
    "import pandas as pd\n",
    "import matplotlib.pyplot as plt\n",
    "\n",
    "from sklearn.linear_model import LogisticRegression, LinearRegression\n",
    "\n",
    "%matplotlib inline"
   ]
  },
  {
   "cell_type": "markdown",
   "metadata": {},
   "source": [
    "# Алгоритм разделения магнитных аномалий по типам дефектов"
   ]
  },
  {
   "cell_type": "markdown",
   "metadata": {},
   "source": [
    "**Цель:**\n",
    "    1. пределить значимые признаки на магнитограммах позволяющие автоматически выявлять магнитные аномалии, вызванные дефектами.\n",
    "    2. по выявленным значимым признакам предложить алгоритм идентификации дефектных участков трубопроводов по характеру наблюдаемой аномалии.\n"
   ]
  },
  {
   "cell_type": "markdown",
   "metadata": {},
   "source": [
    "**Структура данных:**  \n",
    "\n",
    "**N** – номер измерения  \n",
    "**Dist** – расстояние от точки старта  \n",
    "**Xu**, **Yu**, **Zu** – составляющие магнитного поля, зарегистрированные верхним датчиком  \n",
    "**Xd**, **Yd**, **Zd** – составляющие магнитного поля, зарегистрированные нижним датчиком  \n",
    "**Vu** – полный вектор магнитного поля по данным верхнего датчика  \n",
    "**Vd** – полный вектор магнитного поля по данным нижнего датчика  \n",
    "**LAT** – широта  \n",
    "**LNG** – долгота  \n",
    "**Time** – время проведения измерения  \n",
    "**Depth** – глубина залегания трубопровода (бывает только в некоторых файлах)  \n",
    "**Mark** – маркер, выставляемый оператором во время съемки  \n",
    "**Target** – целевая переменная (0 – аномалии в точке нет, 1 – аномалия в точке есть)"
   ]
  },
  {
   "cell_type": "markdown",
   "metadata": {},
   "source": [
    "### Загрузка данных"
   ]
  },
  {
   "cell_type": "markdown",
   "metadata": {},
   "source": [
    "Загружаем полевые данные:"
   ]
  },
  {
   "cell_type": "code",
   "execution_count": 2,
   "metadata": {},
   "outputs": [],
   "source": [
    "df = pd.read_csv('data/150401_0933-0952_(0-915).CSV', sep=';')\n",
    "df['File'] = 0"
   ]
  },
  {
   "cell_type": "code",
   "execution_count": 3,
   "metadata": {},
   "outputs": [],
   "source": [
    "df_1 = pd.read_csv('data/150401_1021_(915-2050).CSV', sep=';')\n",
    "df_1['File'] = 1"
   ]
  },
  {
   "cell_type": "code",
   "execution_count": 4,
   "metadata": {},
   "outputs": [],
   "source": [
    "df_2 = pd.read_csv('data/150401_1057_(2050-4100).CSV', sep=';')\n",
    "df_2['File'] = 2"
   ]
  },
  {
   "cell_type": "code",
   "execution_count": 5,
   "metadata": {},
   "outputs": [],
   "source": [
    "df_3 = pd.read_csv('data/150401_1202_(4116-5828).CSV', sep=';')\n",
    "df_3['File'] = 3"
   ]
  },
  {
   "cell_type": "code",
   "execution_count": 6,
   "metadata": {},
   "outputs": [],
   "source": [
    "df = df.append(df_1)\n",
    "df = df.append(df_2)\n",
    "df = df.append(df_3)"
   ]
  },
  {
   "cell_type": "code",
   "execution_count": 7,
   "metadata": {},
   "outputs": [],
   "source": [
    "df['Id'] = range(df.shape[0])"
   ]
  },
  {
   "cell_type": "code",
   "execution_count": null,
   "metadata": {},
   "outputs": [],
   "source": []
  },
  {
   "cell_type": "code",
   "execution_count": null,
   "metadata": {},
   "outputs": [],
   "source": []
  },
  {
   "cell_type": "code",
   "execution_count": 8,
   "metadata": {},
   "outputs": [],
   "source": [
    "# \"Подчищаем\" названия столбцов\n",
    "for i in range(len(df.columns)):\n",
    "    df.columns.values[i] = df.columns.values[i].lstrip().rstrip()"
   ]
  },
  {
   "cell_type": "markdown",
   "metadata": {},
   "source": [
    "Первичный анализ даных"
   ]
  },
  {
   "cell_type": "code",
   "execution_count": 9,
   "metadata": {},
   "outputs": [
    {
     "data": {
      "text/html": [
       "<div>\n",
       "<style scoped>\n",
       "    .dataframe tbody tr th:only-of-type {\n",
       "        vertical-align: middle;\n",
       "    }\n",
       "\n",
       "    .dataframe tbody tr th {\n",
       "        vertical-align: top;\n",
       "    }\n",
       "\n",
       "    .dataframe thead th {\n",
       "        text-align: right;\n",
       "    }\n",
       "</style>\n",
       "<table border=\"1\" class=\"dataframe\">\n",
       "  <thead>\n",
       "    <tr style=\"text-align: right;\">\n",
       "      <th></th>\n",
       "      <th>N</th>\n",
       "      <th>DIST</th>\n",
       "      <th>Xu</th>\n",
       "      <th>Yu</th>\n",
       "      <th>Zu</th>\n",
       "      <th>Xd</th>\n",
       "      <th>Yd</th>\n",
       "      <th>Zd</th>\n",
       "      <th>Vu</th>\n",
       "      <th>Vd</th>\n",
       "      <th>LAT</th>\n",
       "      <th>LNG</th>\n",
       "      <th>Time</th>\n",
       "      <th>Depth</th>\n",
       "      <th>Mark</th>\n",
       "      <th>Target</th>\n",
       "      <th>File</th>\n",
       "      <th>Id</th>\n",
       "    </tr>\n",
       "  </thead>\n",
       "  <tbody>\n",
       "    <tr>\n",
       "      <th>0</th>\n",
       "      <td>0</td>\n",
       "      <td>0.0</td>\n",
       "      <td>6.4</td>\n",
       "      <td>37.9</td>\n",
       "      <td>-33.2</td>\n",
       "      <td>0.2</td>\n",
       "      <td>30.2</td>\n",
       "      <td>-27.0</td>\n",
       "      <td>50.8</td>\n",
       "      <td>40.5</td>\n",
       "      <td>60.13031</td>\n",
       "      <td>71.6633</td>\n",
       "      <td>9:33:51</td>\n",
       "      <td>0.0</td>\n",
       "      <td>0</td>\n",
       "      <td>0</td>\n",
       "      <td>0</td>\n",
       "      <td>0</td>\n",
       "    </tr>\n",
       "    <tr>\n",
       "      <th>1</th>\n",
       "      <td>1</td>\n",
       "      <td>0.0</td>\n",
       "      <td>6.3</td>\n",
       "      <td>37.9</td>\n",
       "      <td>-33.3</td>\n",
       "      <td>0.3</td>\n",
       "      <td>30.2</td>\n",
       "      <td>-27.0</td>\n",
       "      <td>50.9</td>\n",
       "      <td>40.5</td>\n",
       "      <td>60.13031</td>\n",
       "      <td>71.6633</td>\n",
       "      <td>9:33:51</td>\n",
       "      <td>0.0</td>\n",
       "      <td>0</td>\n",
       "      <td>0</td>\n",
       "      <td>0</td>\n",
       "      <td>1</td>\n",
       "    </tr>\n",
       "    <tr>\n",
       "      <th>2</th>\n",
       "      <td>2</td>\n",
       "      <td>0.0</td>\n",
       "      <td>6.5</td>\n",
       "      <td>37.9</td>\n",
       "      <td>-33.2</td>\n",
       "      <td>0.3</td>\n",
       "      <td>30.2</td>\n",
       "      <td>-26.9</td>\n",
       "      <td>50.8</td>\n",
       "      <td>40.5</td>\n",
       "      <td>60.13031</td>\n",
       "      <td>71.6633</td>\n",
       "      <td>9:33:51</td>\n",
       "      <td>0.0</td>\n",
       "      <td>0</td>\n",
       "      <td>0</td>\n",
       "      <td>0</td>\n",
       "      <td>2</td>\n",
       "    </tr>\n",
       "    <tr>\n",
       "      <th>3</th>\n",
       "      <td>3</td>\n",
       "      <td>1.0</td>\n",
       "      <td>6.5</td>\n",
       "      <td>37.9</td>\n",
       "      <td>-33.2</td>\n",
       "      <td>0.3</td>\n",
       "      <td>30.2</td>\n",
       "      <td>-27.0</td>\n",
       "      <td>50.8</td>\n",
       "      <td>40.5</td>\n",
       "      <td>60.13031</td>\n",
       "      <td>71.6633</td>\n",
       "      <td>9:33:51</td>\n",
       "      <td>0.0</td>\n",
       "      <td>0</td>\n",
       "      <td>0</td>\n",
       "      <td>0</td>\n",
       "      <td>3</td>\n",
       "    </tr>\n",
       "    <tr>\n",
       "      <th>4</th>\n",
       "      <td>4</td>\n",
       "      <td>1.0</td>\n",
       "      <td>6.5</td>\n",
       "      <td>37.9</td>\n",
       "      <td>-33.3</td>\n",
       "      <td>0.5</td>\n",
       "      <td>30.2</td>\n",
       "      <td>-26.9</td>\n",
       "      <td>50.8</td>\n",
       "      <td>40.5</td>\n",
       "      <td>60.13031</td>\n",
       "      <td>71.6633</td>\n",
       "      <td>9:33:51</td>\n",
       "      <td>0.0</td>\n",
       "      <td>0</td>\n",
       "      <td>0</td>\n",
       "      <td>0</td>\n",
       "      <td>4</td>\n",
       "    </tr>\n",
       "  </tbody>\n",
       "</table>\n",
       "</div>"
      ],
      "text/plain": [
       "   N  DIST   Xu    Yu    Zu   Xd    Yd    Zd    Vu    Vd       LAT      LNG  \\\n",
       "0  0   0.0  6.4  37.9 -33.2  0.2  30.2 -27.0  50.8  40.5  60.13031  71.6633   \n",
       "1  1   0.0  6.3  37.9 -33.3  0.3  30.2 -27.0  50.9  40.5  60.13031  71.6633   \n",
       "2  2   0.0  6.5  37.9 -33.2  0.3  30.2 -26.9  50.8  40.5  60.13031  71.6633   \n",
       "3  3   1.0  6.5  37.9 -33.2  0.3  30.2 -27.0  50.8  40.5  60.13031  71.6633   \n",
       "4  4   1.0  6.5  37.9 -33.3  0.5  30.2 -26.9  50.8  40.5  60.13031  71.6633   \n",
       "\n",
       "      Time  Depth  Mark  Target  File  Id  \n",
       "0  9:33:51    0.0     0       0     0   0  \n",
       "1  9:33:51    0.0     0       0     0   1  \n",
       "2  9:33:51    0.0     0       0     0   2  \n",
       "3  9:33:51    0.0     0       0     0   3  \n",
       "4  9:33:51    0.0     0       0     0   4  "
      ]
     },
     "execution_count": 9,
     "metadata": {},
     "output_type": "execute_result"
    }
   ],
   "source": [
    "df.head()"
   ]
  },
  {
   "cell_type": "code",
   "execution_count": 10,
   "metadata": {},
   "outputs": [
    {
     "data": {
      "text/plain": [
       "(229929, 18)"
      ]
     },
     "execution_count": 10,
     "metadata": {},
     "output_type": "execute_result"
    }
   ],
   "source": [
    "df.shape"
   ]
  },
  {
   "cell_type": "code",
   "execution_count": 11,
   "metadata": {},
   "outputs": [
    {
     "name": "stdout",
     "output_type": "stream",
     "text": [
      "<class 'pandas.core.frame.DataFrame'>\n",
      "Int64Index: 229929 entries, 0 to 51594\n",
      "Data columns (total 18 columns):\n",
      " #   Column  Non-Null Count   Dtype  \n",
      "---  ------  --------------   -----  \n",
      " 0   N       229929 non-null  int64  \n",
      " 1   DIST    229929 non-null  float64\n",
      " 2   Xu      229929 non-null  float64\n",
      " 3   Yu      229929 non-null  float64\n",
      " 4   Zu      229929 non-null  float64\n",
      " 5   Xd      229929 non-null  float64\n",
      " 6   Yd      229929 non-null  float64\n",
      " 7   Zd      229929 non-null  float64\n",
      " 8   Vu      229929 non-null  float64\n",
      " 9   Vd      229929 non-null  float64\n",
      " 10  LAT     229929 non-null  float64\n",
      " 11  LNG     229929 non-null  float64\n",
      " 12  Time    229929 non-null  object \n",
      " 13  Depth   229929 non-null  float64\n",
      " 14  Mark    229929 non-null  int64  \n",
      " 15  Target  229929 non-null  int64  \n",
      " 16  File    229929 non-null  int64  \n",
      " 17  Id      229929 non-null  int32  \n",
      "dtypes: float64(12), int32(1), int64(4), object(1)\n",
      "memory usage: 32.5+ MB\n"
     ]
    }
   ],
   "source": [
    "df.info()"
   ]
  },
  {
   "cell_type": "code",
   "execution_count": 12,
   "metadata": {},
   "outputs": [],
   "source": [
    "df.to_csv('data/result_data.csv', index=False, encoding='utf-8')"
   ]
  },
  {
   "cell_type": "markdown",
   "metadata": {},
   "source": [
    "### 1. Обзор данных"
   ]
  },
  {
   "cell_type": "markdown",
   "metadata": {},
   "source": [
    "__Обзор целевой переменной__"
   ]
  },
  {
   "cell_type": "code",
   "execution_count": 13,
   "metadata": {},
   "outputs": [
    {
     "data": {
      "text/plain": [
       "0    229885\n",
       "1        44\n",
       "Name: Target, dtype: int64"
      ]
     },
     "execution_count": 13,
     "metadata": {},
     "output_type": "execute_result"
    }
   ],
   "source": [
    "df['Target'].value_counts()"
   ]
  },
  {
   "cell_type": "markdown",
   "metadata": {},
   "source": [
    "__Обзор количественных признаков__"
   ]
  },
  {
   "cell_type": "code",
   "execution_count": 14,
   "metadata": {},
   "outputs": [
    {
     "data": {
      "text/html": [
       "<div>\n",
       "<style scoped>\n",
       "    .dataframe tbody tr th:only-of-type {\n",
       "        vertical-align: middle;\n",
       "    }\n",
       "\n",
       "    .dataframe tbody tr th {\n",
       "        vertical-align: top;\n",
       "    }\n",
       "\n",
       "    .dataframe thead th {\n",
       "        text-align: right;\n",
       "    }\n",
       "</style>\n",
       "<table border=\"1\" class=\"dataframe\">\n",
       "  <thead>\n",
       "    <tr style=\"text-align: right;\">\n",
       "      <th></th>\n",
       "      <th>N</th>\n",
       "      <th>DIST</th>\n",
       "      <th>Xu</th>\n",
       "      <th>Yu</th>\n",
       "      <th>Zu</th>\n",
       "      <th>Xd</th>\n",
       "      <th>Yd</th>\n",
       "      <th>Zd</th>\n",
       "      <th>Vu</th>\n",
       "      <th>Vd</th>\n",
       "      <th>LAT</th>\n",
       "      <th>LNG</th>\n",
       "      <th>Depth</th>\n",
       "      <th>Mark</th>\n",
       "      <th>Target</th>\n",
       "      <th>File</th>\n",
       "      <th>Id</th>\n",
       "    </tr>\n",
       "  </thead>\n",
       "  <tbody>\n",
       "    <tr>\n",
       "      <th>count</th>\n",
       "      <td>229929.000000</td>\n",
       "      <td>229929.000000</td>\n",
       "      <td>229929.000000</td>\n",
       "      <td>229929.000000</td>\n",
       "      <td>229929.000000</td>\n",
       "      <td>229929.000000</td>\n",
       "      <td>229929.000000</td>\n",
       "      <td>229929.000000</td>\n",
       "      <td>229929.000000</td>\n",
       "      <td>229929.000000</td>\n",
       "      <td>229929.000000</td>\n",
       "      <td>229929.000000</td>\n",
       "      <td>229929.000000</td>\n",
       "      <td>229929.000000</td>\n",
       "      <td>229929.000000</td>\n",
       "      <td>229929.000000</td>\n",
       "      <td>229929.00000</td>\n",
       "    </tr>\n",
       "    <tr>\n",
       "      <th>mean</th>\n",
       "      <td>31766.621274</td>\n",
       "      <td>2853.445484</td>\n",
       "      <td>5.338654</td>\n",
       "      <td>7.557555</td>\n",
       "      <td>-58.296179</td>\n",
       "      <td>6.357171</td>\n",
       "      <td>8.041033</td>\n",
       "      <td>-56.510912</td>\n",
       "      <td>60.193650</td>\n",
       "      <td>58.660774</td>\n",
       "      <td>60.111763</td>\n",
       "      <td>71.637174</td>\n",
       "      <td>209.604310</td>\n",
       "      <td>0.019541</td>\n",
       "      <td>0.000191</td>\n",
       "      <td>1.666410</td>\n",
       "      <td>114964.00000</td>\n",
       "    </tr>\n",
       "    <tr>\n",
       "      <th>std</th>\n",
       "      <td>21732.698286</td>\n",
       "      <td>2931.434148</td>\n",
       "      <td>7.451277</td>\n",
       "      <td>8.820071</td>\n",
       "      <td>3.716310</td>\n",
       "      <td>7.630994</td>\n",
       "      <td>8.865570</td>\n",
       "      <td>4.177925</td>\n",
       "      <td>2.816054</td>\n",
       "      <td>3.429483</td>\n",
       "      <td>0.011538</td>\n",
       "      <td>0.014814</td>\n",
       "      <td>30.570165</td>\n",
       "      <td>0.844493</td>\n",
       "      <td>0.013832</td>\n",
       "      <td>1.002439</td>\n",
       "      <td>66374.92936</td>\n",
       "    </tr>\n",
       "    <tr>\n",
       "      <th>min</th>\n",
       "      <td>0.000000</td>\n",
       "      <td>0.000000</td>\n",
       "      <td>-37.200000</td>\n",
       "      <td>-53.000000</td>\n",
       "      <td>-82.100000</td>\n",
       "      <td>-35.500000</td>\n",
       "      <td>-52.700000</td>\n",
       "      <td>-84.700000</td>\n",
       "      <td>39.200000</td>\n",
       "      <td>33.300000</td>\n",
       "      <td>60.087780</td>\n",
       "      <td>71.613970</td>\n",
       "      <td>0.000000</td>\n",
       "      <td>0.000000</td>\n",
       "      <td>0.000000</td>\n",
       "      <td>0.000000</td>\n",
       "      <td>0.00000</td>\n",
       "    </tr>\n",
       "    <tr>\n",
       "      <th>25%</th>\n",
       "      <td>14370.000000</td>\n",
       "      <td>1314.400000</td>\n",
       "      <td>0.400000</td>\n",
       "      <td>2.100000</td>\n",
       "      <td>-60.200000</td>\n",
       "      <td>1.300000</td>\n",
       "      <td>2.500000</td>\n",
       "      <td>-58.400000</td>\n",
       "      <td>58.600000</td>\n",
       "      <td>56.800000</td>\n",
       "      <td>60.103480</td>\n",
       "      <td>71.624320</td>\n",
       "      <td>194.900000</td>\n",
       "      <td>0.000000</td>\n",
       "      <td>0.000000</td>\n",
       "      <td>1.000000</td>\n",
       "      <td>57482.00000</td>\n",
       "    </tr>\n",
       "    <tr>\n",
       "      <th>50%</th>\n",
       "      <td>28741.000000</td>\n",
       "      <td>2551.500000</td>\n",
       "      <td>5.000000</td>\n",
       "      <td>8.000000</td>\n",
       "      <td>-58.400000</td>\n",
       "      <td>6.000000</td>\n",
       "      <td>8.500000</td>\n",
       "      <td>-56.400000</td>\n",
       "      <td>59.800000</td>\n",
       "      <td>58.000000</td>\n",
       "      <td>60.112960</td>\n",
       "      <td>71.637130</td>\n",
       "      <td>209.400000</td>\n",
       "      <td>0.000000</td>\n",
       "      <td>0.000000</td>\n",
       "      <td>2.000000</td>\n",
       "      <td>114964.00000</td>\n",
       "    </tr>\n",
       "    <tr>\n",
       "      <th>75%</th>\n",
       "      <td>44691.000000</td>\n",
       "      <td>3910.700000</td>\n",
       "      <td>9.700000</td>\n",
       "      <td>13.400000</td>\n",
       "      <td>-56.600000</td>\n",
       "      <td>10.900000</td>\n",
       "      <td>14.000000</td>\n",
       "      <td>-54.600000</td>\n",
       "      <td>61.500000</td>\n",
       "      <td>60.100000</td>\n",
       "      <td>60.121360</td>\n",
       "      <td>71.650050</td>\n",
       "      <td>225.500000</td>\n",
       "      <td>0.000000</td>\n",
       "      <td>0.000000</td>\n",
       "      <td>2.000000</td>\n",
       "      <td>172446.00000</td>\n",
       "    </tr>\n",
       "    <tr>\n",
       "      <th>max</th>\n",
       "      <td>88409.000000</td>\n",
       "      <td>50133.000000</td>\n",
       "      <td>44.400000</td>\n",
       "      <td>47.600000</td>\n",
       "      <td>-22.500000</td>\n",
       "      <td>45.800000</td>\n",
       "      <td>49.100000</td>\n",
       "      <td>-21.600000</td>\n",
       "      <td>82.900000</td>\n",
       "      <td>86.000000</td>\n",
       "      <td>60.130310</td>\n",
       "      <td>71.663310</td>\n",
       "      <td>352.300000</td>\n",
       "      <td>60.000000</td>\n",
       "      <td>1.000000</td>\n",
       "      <td>3.000000</td>\n",
       "      <td>229928.00000</td>\n",
       "    </tr>\n",
       "  </tbody>\n",
       "</table>\n",
       "</div>"
      ],
      "text/plain": [
       "                   N           DIST             Xu             Yu  \\\n",
       "count  229929.000000  229929.000000  229929.000000  229929.000000   \n",
       "mean    31766.621274    2853.445484       5.338654       7.557555   \n",
       "std     21732.698286    2931.434148       7.451277       8.820071   \n",
       "min         0.000000       0.000000     -37.200000     -53.000000   \n",
       "25%     14370.000000    1314.400000       0.400000       2.100000   \n",
       "50%     28741.000000    2551.500000       5.000000       8.000000   \n",
       "75%     44691.000000    3910.700000       9.700000      13.400000   \n",
       "max     88409.000000   50133.000000      44.400000      47.600000   \n",
       "\n",
       "                  Zu             Xd             Yd             Zd  \\\n",
       "count  229929.000000  229929.000000  229929.000000  229929.000000   \n",
       "mean      -58.296179       6.357171       8.041033     -56.510912   \n",
       "std         3.716310       7.630994       8.865570       4.177925   \n",
       "min       -82.100000     -35.500000     -52.700000     -84.700000   \n",
       "25%       -60.200000       1.300000       2.500000     -58.400000   \n",
       "50%       -58.400000       6.000000       8.500000     -56.400000   \n",
       "75%       -56.600000      10.900000      14.000000     -54.600000   \n",
       "max       -22.500000      45.800000      49.100000     -21.600000   \n",
       "\n",
       "                  Vu             Vd            LAT            LNG  \\\n",
       "count  229929.000000  229929.000000  229929.000000  229929.000000   \n",
       "mean       60.193650      58.660774      60.111763      71.637174   \n",
       "std         2.816054       3.429483       0.011538       0.014814   \n",
       "min        39.200000      33.300000      60.087780      71.613970   \n",
       "25%        58.600000      56.800000      60.103480      71.624320   \n",
       "50%        59.800000      58.000000      60.112960      71.637130   \n",
       "75%        61.500000      60.100000      60.121360      71.650050   \n",
       "max        82.900000      86.000000      60.130310      71.663310   \n",
       "\n",
       "               Depth           Mark         Target           File  \\\n",
       "count  229929.000000  229929.000000  229929.000000  229929.000000   \n",
       "mean      209.604310       0.019541       0.000191       1.666410   \n",
       "std        30.570165       0.844493       0.013832       1.002439   \n",
       "min         0.000000       0.000000       0.000000       0.000000   \n",
       "25%       194.900000       0.000000       0.000000       1.000000   \n",
       "50%       209.400000       0.000000       0.000000       2.000000   \n",
       "75%       225.500000       0.000000       0.000000       2.000000   \n",
       "max       352.300000      60.000000       1.000000       3.000000   \n",
       "\n",
       "                 Id  \n",
       "count  229929.00000  \n",
       "mean   114964.00000  \n",
       "std     66374.92936  \n",
       "min         0.00000  \n",
       "25%     57482.00000  \n",
       "50%    114964.00000  \n",
       "75%    172446.00000  \n",
       "max    229928.00000  "
      ]
     },
     "execution_count": 14,
     "metadata": {},
     "output_type": "execute_result"
    }
   ],
   "source": [
    "df.describe()"
   ]
  },
  {
   "cell_type": "markdown",
   "metadata": {},
   "source": [
    "### 2. Обработка пропусков"
   ]
  },
  {
   "cell_type": "code",
   "execution_count": 15,
   "metadata": {},
   "outputs": [
    {
     "data": {
      "text/plain": [
       "N         0\n",
       "DIST      0\n",
       "Xu        0\n",
       "Yu        0\n",
       "Zu        0\n",
       "Xd        0\n",
       "Yd        0\n",
       "Zd        0\n",
       "Vu        0\n",
       "Vd        0\n",
       "LAT       0\n",
       "LNG       0\n",
       "Time      0\n",
       "Depth     0\n",
       "Mark      0\n",
       "Target    0\n",
       "File      0\n",
       "Id        0\n",
       "dtype: int64"
      ]
     },
     "execution_count": 15,
     "metadata": {},
     "output_type": "execute_result"
    }
   ],
   "source": [
    "len(df) - df.count()"
   ]
  },
  {
   "cell_type": "markdown",
   "metadata": {},
   "source": [
    "Пропусков нет."
   ]
  },
  {
   "cell_type": "markdown",
   "metadata": {},
   "source": [
    "### 3. Обработка выбросов"
   ]
  },
  {
   "cell_type": "code",
   "execution_count": 16,
   "metadata": {},
   "outputs": [],
   "source": [
    "def emissions(data):\n",
    "    # Считаем диапазон за границами которого все выброс.    \n",
    "    q1 = data.quantile(0.25)\n",
    "    q3 = data.quantile(0.75)\n",
    "    iqr = q3 - q1\n",
    "    return (q1 - 1.5 * iqr, q3 + 1.5 * iqr)"
   ]
  },
  {
   "cell_type": "code",
   "execution_count": 17,
   "metadata": {},
   "outputs": [],
   "source": [
    "def build_regressor_outlier(df, columns, field):\n",
    "    # Обучили регрессор.\n",
    "    X = df[columns]\n",
    "    y = df[field]\n",
    "    model = LinearRegression()\n",
    "    model.fit(X, y)\n",
    "    return model"
   ]
  },
  {
   "cell_type": "code",
   "execution_count": 18,
   "metadata": {},
   "outputs": [],
   "source": [
    "def clear_outlier(data, field, columns):\n",
    "    # Обрабатываем выброс для конкретного поля.\n",
    "    r_1, r_2 = emissions(data[field])\n",
    "    if r_1 - r_2 != 0:\n",
    "        share = round(data[(r_1 > data[field]) | (data[field] > r_2)].size/data.size*100, 2)\n",
    "        print(f'\"{field}\"\\nОбщая доля выбросов в процентах {share}%\\n')\n",
    "        if share > 5:\n",
    "            model = build_regressor_outlier(data[(r_1 < data[field]) & (data[field] < r_2)], columns, field)\n",
    "            data.loc[(r_1 > data[field]) | (data[field] > r_2), field] = predict_regressor_outlier(data[(r_1 > data[field]) | (data[field] > r_2)], model, columns, field)\n",
    "        else:\n",
    "            data.loc[(r_1 > data[field]) | (data[field] > r_2), field] = data[(r_1 < data[field]) & (data[field] < r_2)][field].mode()[0]"
   ]
  },
  {
   "cell_type": "code",
   "execution_count": 19,
   "metadata": {},
   "outputs": [],
   "source": [
    "def predict_regressor_outlier(df, model, columns, filed):\n",
    "    # Получили значения для пустых значений.\n",
    "    X = df[columns]\n",
    "    y = model.predict(X)\n",
    "    return y"
   ]
  },
  {
   "cell_type": "code",
   "execution_count": 20,
   "metadata": {},
   "outputs": [],
   "source": [
    "def clear_outlier_all(data, columns):\n",
    "    # Обрабатываем выбросы для всех полей конкретной выборки\n",
    "    clear_outlier(data, 'Xu', columns)\n",
    "    clear_outlier(data, 'Yu', columns)\n",
    "    clear_outlier(data, 'Zu', columns)\n",
    "    clear_outlier(data, 'Xd', columns)\n",
    "    clear_outlier(data, 'Yd', columns)\n",
    "    clear_outlier(data, 'Zd', columns)\n",
    "    clear_outlier(data, 'Vu', columns)\n",
    "    clear_outlier(data, 'Vd', columns)\n",
    "    clear_outlier(data, 'Depth', columns)"
   ]
  },
  {
   "cell_type": "code",
   "execution_count": 21,
   "metadata": {},
   "outputs": [],
   "source": [
    "columns = ['N', 'DIST', 'Xu', 'Yu', 'Zu', 'Xd', 'Yd', 'Zd', 'Vu', 'Vd', 'LAT', 'LNG', 'Depth', 'Mark', 'Target', 'File', 'Id']"
   ]
  },
  {
   "cell_type": "code",
   "execution_count": 22,
   "metadata": {},
   "outputs": [
    {
     "name": "stdout",
     "output_type": "stream",
     "text": [
      "\"Xu\"\n",
      "Общая доля выбросов в процентах 1.93%\n",
      "\n",
      "\"Yu\"\n",
      "Общая доля выбросов в процентах 1.51%\n",
      "\n",
      "\"Zu\"\n",
      "Общая доля выбросов в процентах 5.06%\n",
      "\n",
      "\"Xd\"\n",
      "Общая доля выбросов в процентах 1.81%\n",
      "\n",
      "\"Yd\"\n",
      "Общая доля выбросов в процентах 1.32%\n",
      "\n",
      "\"Zd\"\n",
      "Общая доля выбросов в процентах 6.78%\n",
      "\n",
      "\"Vu\"\n",
      "Общая доля выбросов в процентах 4.74%\n",
      "\n",
      "\"Vd\"\n",
      "Общая доля выбросов в процентах 5.8%\n",
      "\n",
      "\"Depth\"\n",
      "Общая доля выбросов в процентах 4.87%\n",
      "\n"
     ]
    }
   ],
   "source": [
    "clear_outlier_all(df, columns)"
   ]
  },
  {
   "cell_type": "code",
   "execution_count": null,
   "metadata": {},
   "outputs": [],
   "source": []
  },
  {
   "cell_type": "code",
   "execution_count": null,
   "metadata": {},
   "outputs": [],
   "source": []
  },
  {
   "cell_type": "code",
   "execution_count": null,
   "metadata": {},
   "outputs": [],
   "source": []
  },
  {
   "cell_type": "code",
   "execution_count": 23,
   "metadata": {},
   "outputs": [
    {
     "data": {
      "image/png": "[encoded data removed]",
      "text/plain": [
       "<Figure size 432x288 with 1 Axes>"
      ]
     },
     "metadata": {
      "needs_background": "light"
     },
     "output_type": "display_data"
    }
   ],
   "source": [
    "fig, ax = plt.subplots()\n",
    "ax.plot(df['N'], df['Xu'])\n",
    "\n",
    "ax.set(xlabel='time (s)', ylabel='voltage (mV)',\n",
    "       title='About as simple as it gets, folks')\n",
    "ax.grid()\n",
    "\n",
    "# fig.savefig(\"test.png\")\n",
    "plt.show()"
   ]
  },
  {
   "cell_type": "code",
   "execution_count": 40,
   "metadata": {},
   "outputs": [
    {
     "data": {
      "image/png": "[encoded data removed]",
      "text/plain": [
       "<Figure size 432x288 with 1 Axes>"
      ]
     },
     "metadata": {
      "needs_background": "light"
     },
     "output_type": "display_data"
    }
   ],
   "source": [
    "df_1 = df.loc[(df['N'] >= 14893) & (df['N'] <= 15093) & (df['File'] == 0)]\n",
    "\n",
    "fig, ax = plt.subplots()\n",
    "ax.plot(df_1['N'], df_1['Vu'])\n",
    "\n",
    "ax.grid()\n",
    "\n",
    "# fig.savefig(\"test.png\")\n",
    "plt.show()"
   ]
  },
  {
   "cell_type": "code",
   "execution_count": 41,
   "metadata": {},
   "outputs": [
    {
     "data": {
      "image/png": "[encoded data removed]",
      "text/plain": [
       "<Figure size 432x288 with 1 Axes>"
      ]
     },
     "metadata": {
      "needs_background": "light"
     },
     "output_type": "display_data"
    }
   ],
   "source": [
    "df_1 = df.loc[(df['N'] >= 13893) & (df['N'] <= 16093) & (df['File'] == 0)]\n",
    "\n",
    "fig, ax = plt.subplots()\n",
    "ax.plot(df_1['N'], df_1['Vu'])\n",
    "\n",
    "ax.grid()\n",
    "\n",
    "# fig.savefig(\"test.png\")\n",
    "plt.show()"
   ]
  },
  {
   "cell_type": "code",
   "execution_count": 42,
   "metadata": {},
   "outputs": [
    {
     "data": {
      "image/png": "[encoded data removed]",
      "text/plain": [
       "<Figure size 432x288 with 1 Axes>"
      ]
     },
     "metadata": {
      "needs_background": "light"
     },
     "output_type": "display_data"
    }
   ],
   "source": [
    "df_1 = df.loc[(df['N'] >= 14893) & (df['N'] <= 15093) & (df['File'] == 0)]\n",
    "\n",
    "fig, ax = plt.subplots()\n",
    "ax.plot(df_1['N'], df_1['Vd'])\n",
    "\n",
    "ax.grid()\n",
    "\n",
    "# fig.savefig(\"test.png\")\n",
    "plt.show()"
   ]
  },
  {
   "cell_type": "code",
   "execution_count": 43,
   "metadata": {},
   "outputs": [
    {
     "data": {
      "image/png": "[encoded data removed]",
      "text/plain": [
       "<Figure size 432x288 with 1 Axes>"
      ]
     },
     "metadata": {
      "needs_background": "light"
     },
     "output_type": "display_data"
    }
   ],
   "source": [
    "df_1 = df.loc[(df['N'] >= 14393) & (df['N'] <= 15593) & (df['File'] == 0)]\n",
    "\n",
    "fig, ax = plt.subplots()\n",
    "ax.plot(df_1['N'], df_1['Vd'])\n",
    "\n",
    "ax.grid()\n",
    "\n",
    "# fig.savefig(\"test.png\")\n",
    "plt.show()"
   ]
  },
  {
   "cell_type": "code",
   "execution_count": null,
   "metadata": {},
   "outputs": [],
   "source": []
  }
 ],
 "metadata": {
  "kernelspec": {
   "display_name": "Python 3",
   "language": "python",
   "name": "python3"
  },
  "language_info": {
   "codemirror_mode": {
    "name": "ipython",
    "version": 3
   },
   "file_extension": ".py",
   "mimetype": "text/x-python",
   "name": "python",
   "nbconvert_exporter": "python",
   "pygments_lexer": "ipython3",
   "version": "3.7.6"
  }
 },
 "nbformat": 4,
 "nbformat_minor": 4
}
